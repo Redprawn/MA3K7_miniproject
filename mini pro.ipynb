{
 "cells": [
  {
   "cell_type": "markdown",
   "id": "75384c24-0ad9-46e6-bcfa-0bc77260c0ac",
   "metadata": {
    "tags": []
   },
   "source": [
    "Big mini project"
   ]
  },
  {
   "cell_type": "code",
   "execution_count": 1,
   "id": "f6113bf1-3c5c-4d58-903a-2620eded7d1b",
   "metadata": {
    "tags": []
   },
   "outputs": [],
   "source": [
    "#Code 1.Calculating p_k(n)\n",
    "import numpy as np\n",
    "import math\n",
    "import time\n",
    "\n",
    "def pbreak(k,n):\n",
    "    if k==1 or k==n or k==n-1:\n",
    "        return 1\n",
    "    if k > n:\n",
    "        return 0\n",
    "    if k==2:\n",
    "        return math.floor(n/2)\n",
    "    else:\n",
    "        return pbreak(k-1,n-1) + pbreak(k,n-k)"
   ]
  },
  {
   "cell_type": "code",
   "execution_count": 2,
   "id": "956826fc-510a-46f3-840e-dcb480ebff88",
   "metadata": {
    "tags": []
   },
   "outputs": [
    {
     "name": "stdout",
     "output_type": "stream",
     "text": [
      "There are 248 ways\n",
      "run time is 0.0009987354278564453\n"
     ]
    }
   ],
   "source": [
    "#p_7(25) calculate\n",
    "\n",
    "start = time.time()\n",
    "\n",
    "res = pbreak(7,25)\n",
    "\n",
    "end = time.time()\n",
    "\n",
    "print('There are', res, 'ways')\n",
    "print('run time is', end-start)"
   ]
  },
  {
   "cell_type": "code",
   "execution_count": 4,
   "id": "6bd79a61-a27f-4873-aa90-20d452ea2798",
   "metadata": {},
   "outputs": [
    {
     "name": "stdout",
     "output_type": "stream",
     "text": [
      "There are 190569292 way to knot 100 strings\n"
     ]
    }
   ],
   "source": [
    "##question 2\n",
    "q2 = pbreak(100,200)\n",
    "print('There are',q2,'way to knot 100 strings')"
   ]
  },
  {
   "cell_type": "code",
   "execution_count": 4,
   "id": "7e2d814e-1760-403d-9a50-a02709c63051",
   "metadata": {},
   "outputs": [
    {
     "name": "stdout",
     "output_type": "stream",
     "text": [
      "When k =  1   partition number is  1\n",
      "When k =  2   partition number is  5\n",
      "When k =  3   partition number is  8\n",
      "When k =  4   partition number is  9\n",
      "When k =  5   partition number is  7\n",
      "When k =  6   partition number is  5\n",
      "When k =  7   partition number is  3\n",
      "When k =  8   partition number is  2\n",
      "When k =  9   partition number is  1\n",
      "When k =  10   partition number is  1\n",
      "\n",
      "When k =  1   partition number is  1\n",
      "When k =  2   partition number is  6\n",
      "When k =  3   partition number is  12\n",
      "When k =  4   partition number is  15\n",
      "When k =  5   partition number is  13\n",
      "When k =  6   partition number is  11\n",
      "When k =  7   partition number is  7\n",
      "When k =  8   partition number is  5\n",
      "When k =  9   partition number is  3\n",
      "When k =  10   partition number is  2\n",
      "When k =  11   partition number is  1\n",
      "When k =  12   partition number is  1\n",
      "\n",
      "When k =  1   partition number is  1\n",
      "When k =  2   partition number is  7\n",
      "When k =  3   partition number is  16\n",
      "When k =  4   partition number is  23\n",
      "When k =  5   partition number is  23\n",
      "When k =  6   partition number is  20\n",
      "When k =  7   partition number is  15\n",
      "When k =  8   partition number is  11\n",
      "When k =  9   partition number is  7\n",
      "When k =  10   partition number is  5\n",
      "When k =  11   partition number is  3\n",
      "When k =  12   partition number is  2\n",
      "When k =  13   partition number is  1\n",
      "When k =  14   partition number is  1\n",
      "\n",
      "When k =  1   partition number is  1\n",
      "When k =  2   partition number is  10\n",
      "When k =  3   partition number is  33\n",
      "When k =  4   partition number is  64\n",
      "When k =  5   partition number is  84\n",
      "When k =  6   partition number is  90\n",
      "When k =  7   partition number is  82\n",
      "When k =  8   partition number is  70\n",
      "When k =  9   partition number is  54\n",
      "When k =  10   partition number is  42\n",
      "When k =  11   partition number is  30\n",
      "When k =  12   partition number is  22\n",
      "When k =  13   partition number is  15\n",
      "When k =  14   partition number is  11\n",
      "When k =  15   partition number is  7\n",
      "When k =  16   partition number is  5\n",
      "When k =  17   partition number is  3\n",
      "When k =  18   partition number is  2\n",
      "When k =  19   partition number is  1\n",
      "When k =  20   partition number is  1\n"
     ]
    }
   ],
   "source": [
    "##question 3\n",
    "#cj2 counter example\n",
    "\n",
    "for i in range(10):\n",
    "    print('When k = ',i + 1 ,'  partition number is ',pbreak(i+1,10))\n",
    "\n",
    "print('')\n",
    "for i in range(12):\n",
    "    print('When k = ',i + 1 ,'  partition number is ',pbreak(i+1,12))\n",
    "    \n",
    "print('')\n",
    "\n",
    "for i in range(14):\n",
    "    print('When k = ',i + 1 ,'  partition number is ',pbreak(i+1,14))\n",
    "print('')   \n",
    "    \n",
    "for i in range(20):\n",
    "    print('When k = ',i + 1 ,'  partition number is ',pbreak(i+1,20))"
   ]
  },
  {
   "cell_type": "code",
   "execution_count": 4,
   "id": "c483fe79-bdde-414b-94fe-8e3a5530f7f5",
   "metadata": {
    "tags": []
   },
   "outputs": [
    {
     "name": "stdout",
     "output_type": "stream",
     "text": [
      "When k is 1 m(n) is [(1, 1)]\n",
      "When k is 2 m(n) is [(2, 1), (2, 2)]\n",
      "When k is 3 m(n) is [(3, 1), (3, 2), (3, 3)]\n",
      "When k is 4 m(n) is [(4, 2)]\n",
      "When k is 5 m(n) is [(5, 2), (5, 3)]\n",
      "When k is 6 m(n) is [(6, 2), (6, 3)]\n",
      "When k is 7 m(n) is [(7, 3)]\n",
      "When k is 8 m(n) is [(8, 3), (8, 4)]\n",
      "When k is 9 m(n) is [(9, 3)]\n",
      "When k is 10 m(n) is [(10, 4)]\n",
      "When k is 11 m(n) is [(11, 4)]\n",
      "When k is 12 m(n) is [(12, 4)]\n",
      "When k is 13 m(n) is [(13, 4), (13, 5)]\n",
      "When k is 14 m(n) is [(14, 4), (14, 5)]\n",
      "When k is 15 m(n) is [(15, 5)]\n",
      "When k is 16 m(n) is [(16, 5)]\n",
      "When k is 17 m(n) is [(17, 5)]\n",
      "When k is 18 m(n) is [(18, 6)]\n",
      "When k is 19 m(n) is [(19, 6)]\n",
      "When k is 20 m(n) is [(20, 6)]\n"
     ]
    }
   ],
   "source": [
    "\n",
    "def findmax(n):\n",
    "    mn =[]\n",
    "    mpar = 1\n",
    "    for i in range(n):\n",
    "        tmp = pbreak(i+1,n)\n",
    "        if mpar == tmp:\n",
    "            mn.append((n,i+1))\n",
    "            \n",
    "        if mpar < tmp:\n",
    "            mn = [(n,i+1)]\n",
    "            mpar = tmp\n",
    "                    \n",
    "    return mn\n",
    "\n",
    "\n",
    "def pointlist(n):\n",
    "    alist=[]\n",
    "    for i in range(n):\n",
    "        alist =alist + findmax(i+1)\n",
    "    return alist\n",
    "            \n",
    "for i in range(0,20):\n",
    "    print('When k is',i+1,'m(n) is',findmax(i+1))"
   ]
  },
  {
   "cell_type": "code",
   "execution_count": 6,
   "id": "1280b277-c8f7-4c5f-a06a-4b458ecfe525",
   "metadata": {},
   "outputs": [
    {
     "data": {
      "image/png": "[encoded data removed]",
      "text/plain": [
       "<Figure size 640x480 with 1 Axes>"
      ]
     },
     "metadata": {},
     "output_type": "display_data"
    },
    {
     "name": "stdout",
     "output_type": "stream",
     "text": [
      "y =  0.19815430783224117 * x + 1.6491883601888189\n"
     ]
    }
   ],
   "source": [
    "#question 3 find max\n",
    "import matplotlib.pyplot as plt\n",
    "\n",
    "\n",
    "#for i in range(30):\n",
    "#    print('When k is',i+1,'m(n) is',findmax(i+1))\n",
    "    \n",
    "\n",
    "\n",
    "pointl = pointlist(50)\n",
    "\n",
    "xaxis = [coord[0] for coord in pointl]\n",
    "yaxis = [coord[1] for coord in pointl]\n",
    "\n",
    "xconst = np.arange(1,51)\n",
    "\n",
    "slop, diff = np.polyfit(xaxis, yaxis, 1)\n",
    "\n",
    "\n",
    "tline = slop * xconst + diff\n",
    "\n",
    "\n",
    "plt.title('Distribution of m(n)')\n",
    "plt.plot(xaxis,yaxis,'bo')\n",
    "plt.plot(xconst,tline,'r')\n",
    "plt.grid(True)\n",
    "plt.xlabel('n')\n",
    "plt.ylabel('m(n)')\n",
    "\n",
    "\n",
    "plt.show()\n",
    "print('y = ',slop,'* x +', diff)\n"
   ]
  },
  {
   "cell_type": "code",
   "execution_count": 7,
   "id": "19196fc4-64f2-4c33-b988-9faa7c7d9e7b",
   "metadata": {},
   "outputs": [
    {
     "name": "stdout",
     "output_type": "stream",
     "text": [
      "10474462\n",
      "2977866\n",
      "9921212\n"
     ]
    }
   ],
   "source": [
    "print(pbreak(20,100))\n",
    "print(pbreak(10,100))\n",
    "print(pbreak(15,100))"
   ]
  },
  {
   "cell_type": "code",
   "execution_count": 8,
   "id": "ad6c5d6f-352e-4d83-8289-45aaa9a36b2a",
   "metadata": {},
   "outputs": [
    {
     "name": "stdout",
     "output_type": "stream",
     "text": [
      "11022546\n"
     ]
    }
   ],
   "source": [
    "print(pbreak(17,100))"
   ]
  },
  {
   "cell_type": "code",
   "execution_count": 9,
   "id": "eb55ec5a-119f-45ce-a2e8-5c1ba62597e2",
   "metadata": {
    "tags": []
   },
   "outputs": [
    {
     "name": "stdout",
     "output_type": "stream",
     "text": [
      "10643083\n"
     ]
    }
   ],
   "source": [
    "print(pbreak(16,100))"
   ]
  },
  {
   "cell_type": "code",
   "execution_count": 10,
   "id": "cc2cc906-95dc-45f4-8876-2bcc5d9df80c",
   "metadata": {
    "tags": []
   },
   "outputs": [
    {
     "name": "stdout",
     "output_type": "stream",
     "text": [
      "11087828\n"
     ]
    }
   ],
   "source": [
    "print(pbreak(18,100))"
   ]
  },
  {
   "cell_type": "code",
   "execution_count": 11,
   "id": "3a1581db-7de2-4467-933c-b6f4d08d3b58",
   "metadata": {
    "tags": []
   },
   "outputs": [
    {
     "name": "stdout",
     "output_type": "stream",
     "text": [
      "10885999\n"
     ]
    }
   ],
   "source": [
    "print(pbreak(19,100))"
   ]
  },
  {
   "cell_type": "code",
   "execution_count": 40,
   "id": "a01ffd90-4ed9-44c8-b8ff-622e8cf8d885",
   "metadata": {},
   "outputs": [],
   "source": [
    "##question 3\n",
    "\n",
    "def findmax2(n):\n",
    "    dleft = 2\n",
    "    dright = n-1\n",
    "    find = False\n",
    "    count = 0\n",
    "    kmax = []\n",
    "    while find==False:\n",
    "        mean = math.floor((dright + dleft)/2)\n",
    "        print(mean)\n",
    "        tmp = pbreak(mean,n)\n",
    "        tmpl = pbreak(mean-1,n)\n",
    "        tmpr = pbreak(mean+1,n)\n",
    "        count += 3\n",
    "        i = 1\n",
    "        j = 1\n",
    "        while tmp == tmpl:\n",
    "            kmax.append(mean-i+1)\n",
    "            i +=1\n",
    "            tmpl = pbreak(mean-i,n)\n",
    "            count +=1\n",
    "            if mean-i == 2:\n",
    "                break\n",
    "        while tmp == tmpr:\n",
    "            kmax.append(mean+j-1)\n",
    "            j += 1\n",
    "            tmpr = pbreak(mean+j,n)\n",
    "            count +=1\n",
    "            if mean+j ==n-1:\n",
    "                break\n",
    "        if tmp>tmpl and tmp>tmpr:\n",
    "            find = True\n",
    "            if mean not in kmax:\n",
    "                kmax.append(mean)\n",
    "            return kmax,count\n",
    "        if tmp<tmpl or tmp>tmpr:\n",
    "            dright = mean\n",
    "            kmax = []\n",
    "        if tmp>tmpl or tmp<tmpr:\n",
    "            dleft = mean\n",
    "            kmax = []\n",
    "        \n",
    "\n"
   ]
  },
  {
   "cell_type": "code",
   "execution_count": 35,
   "id": "5b9dd7f7-27da-45bd-a6a0-7a80cff61bcb",
   "metadata": {},
   "outputs": [
    {
     "name": "stdout",
     "output_type": "stream",
     "text": [
      "k= 1 partition number 1\n",
      "k= 2 partition number 50\n",
      "k= 3 partition number 833\n",
      "k= 4 partition number 7153\n",
      "k= 5 partition number 38225\n",
      "k= 6 partition number 143247\n",
      "k= 7 partition number 407254\n",
      "k= 8 partition number 930912\n",
      "k= 9 partition number 1786528\n",
      "k= 10 partition number 2977866\n",
      "k= 11 partition number 4426616\n",
      "k= 12 partition number 5994463\n",
      "k= 13 partition number 7520910\n",
      "k= 14 partition number 8863685\n",
      "k= 15 partition number 9921212\n",
      "k= 16 partition number 10643083\n",
      "k= 17 partition number 11022546\n",
      "k= 18 partition number 11087828\n",
      "k= 19 partition number 10885999\n",
      "k= 20 partition number 10474462\n",
      "k= 21 partition number 9909482\n",
      "k= 22 partition number 9243766\n",
      "k= 23 partition number 8520721\n",
      "k= 24 partition number 7776463\n",
      "k= 25 partition number 7037286\n",
      "k= 26 partition number 6323274\n",
      "k= 27 partition number 5647002\n",
      "k= 28 partition number 5017195\n",
      "k= 29 partition number 4437567\n",
      "k= 30 partition number 3910071\n",
      "k= 31 partition number 3433592\n",
      "k= 32 partition number 3006581\n",
      "k= 33 partition number 2625726\n",
      "k= 34 partition number 2288049\n",
      "k= 35 partition number 1989533\n",
      "k= 36 partition number 1726888\n",
      "k= 37 partition number 1496203\n",
      "k= 38 partition number 1294393\n",
      "k= 39 partition number 1117999\n",
      "k= 40 partition number 964380\n",
      "k= 41 partition number 830608\n",
      "k= 42 partition number 714536\n",
      "k= 43 partition number 613781\n",
      "k= 44 partition number 526628\n",
      "k= 45 partition number 451179\n",
      "k= 46 partition number 386110\n",
      "k= 47 partition number 329912\n",
      "k= 48 partition number 281582\n",
      "k= 49 partition number 239941\n",
      "k= 50 partition number 204226\n",
      "k= 51 partition number 173525\n",
      "k= 52 partition number 147273\n",
      "k= 53 partition number 124754\n",
      "k= 54 partition number 105558\n",
      "k= 55 partition number 89134\n",
      "k= 56 partition number 75175\n",
      "k= 57 partition number 63261\n",
      "k= 58 partition number 53174\n",
      "k= 59 partition number 44583\n",
      "k= 60 partition number 37338\n",
      "k= 61 partition number 31185\n",
      "k= 62 partition number 26015\n",
      "k= 63 partition number 21637\n",
      "k= 64 partition number 17977\n",
      "k= 65 partition number 14883\n",
      "k= 66 partition number 12310\n",
      "k= 67 partition number 10143\n",
      "k= 68 partition number 8349\n",
      "k= 69 partition number 6842\n",
      "k= 70 partition number 5604\n",
      "k= 71 partition number 4565\n",
      "k= 72 partition number 3718\n",
      "k= 73 partition number 3010\n",
      "k= 74 partition number 2436\n",
      "k= 75 partition number 1958\n",
      "k= 76 partition number 1575\n",
      "k= 77 partition number 1255\n",
      "k= 78 partition number 1002\n",
      "k= 79 partition number 792\n",
      "k= 80 partition number 627\n",
      "k= 81 partition number 490\n",
      "k= 82 partition number 385\n",
      "k= 83 partition number 297\n",
      "k= 84 partition number 231\n",
      "k= 85 partition number 176\n",
      "k= 86 partition number 135\n",
      "k= 87 partition number 101\n",
      "k= 88 partition number 77\n",
      "k= 89 partition number 56\n",
      "k= 90 partition number 42\n",
      "k= 91 partition number 30\n",
      "k= 92 partition number 22\n",
      "k= 93 partition number 15\n",
      "k= 94 partition number 11\n",
      "k= 95 partition number 7\n",
      "k= 96 partition number 5\n",
      "k= 97 partition number 3\n",
      "k= 98 partition number 2\n",
      "k= 99 partition number 1\n",
      "k= 100 partition number 1\n"
     ]
    }
   ],
   "source": [
    "for i in range(100):\n",
    "    print('k=',i+1,'partition number', pbreak(i+1,100))"
   ]
  },
  {
   "cell_type": "code",
   "execution_count": 39,
   "id": "798e5297",
   "metadata": {},
   "outputs": [
    {
     "data": {
      "text/plain": [
       "([18], 18)"
      ]
     },
     "execution_count": 39,
     "metadata": {},
     "output_type": "execute_result"
    }
   ],
   "source": [
    "findmax2(100)"
   ]
  },
  {
   "cell_type": "code",
   "execution_count": null,
   "id": "d8969ede",
   "metadata": {},
   "outputs": [],
   "source": []
  }
 ],
 "metadata": {
  "kernelspec": {
   "display_name": "Python 3 (ipykernel)",
   "language": "python",
   "name": "python3"
  },
  "language_info": {
   "codemirror_mode": {
    "name": "ipython",
    "version": 3
   },
   "file_extension": ".py",
   "mimetype": "text/x-python",
   "name": "python",
   "nbconvert_exporter": "python",
   "pygments_lexer": "ipython3",
   "version": "3.11.5"
  }
 },
 "nbformat": 4,
 "nbformat_minor": 5
}
